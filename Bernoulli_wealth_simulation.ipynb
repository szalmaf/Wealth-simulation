{
  "nbformat": 4,
  "nbformat_minor": 0,
  "metadata": {
    "colab": {
      "name": "Bernoulli_wealth_simulation.ipynb",
      "version": "0.3.2",
      "provenance": [],
      "collapsed_sections": [],
      "include_colab_link": true
    },
    "kernelspec": {
      "name": "python3",
      "display_name": "Python 3"
    }
  },
  "cells": [
    {
      "cell_type": "markdown",
      "metadata": {
        "id": "view-in-github",
        "colab_type": "text"
      },
      "source": [
        "<a href=\"https://colab.research.google.com/github/szalmaf/Wealth-simulation/blob/master/Bernoulli_wealth_simulation.ipynb\" target=\"_parent\"><img src=\"https://colab.research.google.com/assets/colab-badge.svg\" alt=\"Open In Colab\"/></a>"
      ]
    },
    {
      "cell_type": "markdown",
      "metadata": {
        "id": "TfjC4uYv00VL",
        "colab_type": "text"
      },
      "source": [
        "#Wealth simulation\n",
        "\n",
        "\n",
        "Based on Ole Peters' TEDx lecture, [\"Time and Chance.\"](https://www.youtube.com/watch?v=LGqOH3sYmQA)\n"
      ]
    },
    {
      "cell_type": "markdown",
      "metadata": {
        "id": "_EWUnTTtmrlW",
        "colab_type": "text"
      },
      "source": [
        "##Introduction\n",
        "\n",
        "Daniel Bernoulli, *Exposition of a New Theory on the Measurement of Risk*, 1738 introduced **Expected Utility Theory** (**EUT**), where **utility** is a fundamental concept that has established modern economic theory.\n",
        "\n",
        "Gambling, or risk taking, investment, playing games such as chess or go are all registered under the scientific discipline of **decision theory**.\n",
        "\n",
        "* Maximize expected growth in wealth (before Bernoulli)\n",
        "* Maximize expected **exponential growth rate** of wealth (Bernoulli)"
      ]
    },
    {
      "cell_type": "markdown",
      "metadata": {
        "id": "OGRHRhP91COk",
        "colab_type": "text"
      },
      "source": [
        "##Ensemble average"
      ]
    },
    {
      "cell_type": "code",
      "metadata": {
        "id": "cfyyAfXo6Suj",
        "colab_type": "code",
        "outputId": "c63bde6e-ff00-47f6-8b81-5e8f148b354d",
        "colab": {
          "base_uri": "https://localhost:8080/",
          "height": 76
        }
      },
      "source": [
        "import numpy as np\n",
        "import matplotlib\n",
        "import matplotlib.pyplot as plt\n",
        "import tensorflow as tf\n",
        "import tensorflow_probability as tfp\n",
        "tf.enable_eager_execution()\n",
        "tf.version.VERSION"
      ],
      "execution_count": 0,
      "outputs": [
        {
          "output_type": "execute_result",
          "data": {
            "text/plain": [
              "'1.14.0-rc1'"
            ]
          },
          "metadata": {
            "tags": []
          },
          "execution_count": 1
        }
      ]
    },
    {
      "cell_type": "code",
      "metadata": {
        "id": "20jIcCnp7gnq",
        "colab_type": "code",
        "outputId": "e97f791d-8170-481f-d1ec-46cb3f596d57",
        "colab": {
          "base_uri": "https://localhost:8080/",
          "height": 76
        }
      },
      "source": [
        "tf.executing_eagerly()"
      ],
      "execution_count": 0,
      "outputs": [
        {
          "output_type": "execute_result",
          "data": {
            "text/plain": [
              "True"
            ]
          },
          "metadata": {
            "tags": []
          },
          "execution_count": 2
        }
      ]
    },
    {
      "cell_type": "code",
      "metadata": {
        "id": "kF8s_G8SfyOf",
        "colab_type": "code",
        "colab": {}
      },
      "source": [
        "def rescale_bernoulli_to_gain_loss(gain, loss, tensor):\n",
        "  \"\"\"Rescales the two possible outcomes, {0,1}, coming from \n",
        "  tfp.distributions.Bernoulli(...) to {loss, gain}\n",
        "  Example:\n",
        "    loss = 0.6 means that wealth_{t+1} = 0.6 * wealth_t, that is, 40% loss\n",
        "    gain = 1.5 means that wealth_{t+1} = 1.5 * wealth_t, that is, 50% gain.\"\"\"\n",
        "  y = gain - loss\n",
        "  x = loss/y\n",
        "  return (tensor + x) * y"
      ],
      "execution_count": 0,
      "outputs": []
    },
    {
      "cell_type": "code",
      "metadata": {
        "id": "Uq0GATKa1nYT",
        "colab_type": "code",
        "colab": {}
      },
      "source": [
        "gain_factor = 1.5  # Gain 50% on your current wealth\n",
        "loss_factor = 0.6  # Lose 40% on your current wealth\n",
        "n_sample = 1000000  # number of samples in the ensemble\n",
        "n_time = 60  # number of time steps\n",
        "w0 = 100.  # initial wealth"
      ],
      "execution_count": 0,
      "outputs": []
    },
    {
      "cell_type": "code",
      "metadata": {
        "id": "mIEgk34i7wP5",
        "colab_type": "code",
        "colab": {}
      },
      "source": [
        "mean_t = np.zeros(n_time + 1)\n",
        "std_t = np.zeros(n_time + 1)\n",
        "mean_t[0] = w0\n",
        "std_t[0] = 0\n",
        "wt = tf.ones(n_sample) * w0\n",
        "\n",
        "\n",
        "for t in range(n_time):\n",
        "  rndw_aux = tfp.distributions.Bernoulli(probs=0.5,dtype=tf.float32).sample(n_sample)\n",
        "  rndw = rescale_bernoulli_to_gain_loss(gain_factor, loss_factor, rndw_aux)\n",
        "  wt = wt * rndw\n",
        "  mean_t[t + 1] = tf.reduce_sum(wt) / n_sample\n",
        "  std_t[t + 1] = np.std(wt)"
      ],
      "execution_count": 0,
      "outputs": []
    },
    {
      "cell_type": "code",
      "metadata": {
        "id": "GXzcMdMgz5sP",
        "colab_type": "code",
        "outputId": "d449b32b-d69d-43e6-8bca-736e65cde11e",
        "colab": {
          "base_uri": "https://localhost:8080/",
          "height": 316
        }
      },
      "source": [
        "fig, ax = plt.subplots()\n",
        "ax.semilogy(range(n_time + 1), mean_t)\n",
        "# plt.semilogy\n",
        "ax.set(xlabel='time (# of investments) ', ylabel='Wealth ($) ',\n",
        "       title='Ensemble average')\n",
        "ax.grid()\n",
        "\n",
        "#fig.savefig(\"ensemble_average.png\")\n",
        "plt.show()"
      ],
      "execution_count": 0,
      "outputs": [
        {
          "output_type": "display_data",
          "data": {
            "image/png": "[encoded data removed]",
            "text/plain": [
              "<Figure size 432x288 with 1 Axes>"
            ]
          },
          "metadata": {
            "tags": []
          }
        }
      ]
    },
    {
      "cell_type": "markdown",
      "metadata": {
        "id": "S-fDVKoy1G-s",
        "colab_type": "text"
      },
      "source": [
        "##Long time run (with no averaging)\n"
      ]
    },
    {
      "cell_type": "code",
      "metadata": {
        "id": "VoYXyOKCfNqF",
        "colab_type": "code",
        "colab": {}
      },
      "source": [
        "gain_factor = 1.5  # Gain 50% on your current wealth\n",
        "loss_factor = 0.6  # Lose 40% on your current wealth\n",
        "n_time = 60*24*2  # number of time steps (60 = 1 hour, 60*24 = 1 day, 60*24*7 = 1 week, 60*24*365 = 1 year)\n",
        "w0 = 100.  # initial wealth"
      ],
      "execution_count": 0,
      "outputs": []
    },
    {
      "cell_type": "code",
      "metadata": {
        "id": "4PLBNnBMOTk2",
        "colab_type": "code",
        "colab": {}
      },
      "source": [
        "wt = np.ones(n_time + 1)\n",
        "\n",
        "rndw_aux = tfp.distributions.Bernoulli(probs=0.5,dtype=tf.float32).sample(n_time)\n",
        "rndw = rescale_bernoulli_to_gain_loss(gain_factor, loss_factor, rndw_aux)\n",
        "wt[0] = w0\n",
        "wt[1:] = w0 * tf.cumprod(rndw)\n"
      ],
      "execution_count": 0,
      "outputs": []
    },
    {
      "cell_type": "code",
      "metadata": {
        "id": "n43M0gL2ObY_",
        "colab_type": "code",
        "outputId": "f0588658-ca27-469b-fcc1-312d31748ac4",
        "colab": {
          "base_uri": "https://localhost:8080/",
          "height": 336
        }
      },
      "source": [
        "fig, ax = plt.subplots()\n",
        "ax.semilogy(range(n_time + 1), wt)\n",
        "# plt.semilogy\n",
        "ax.set(xlabel='time (# of investments) ', ylabel='Wealth ($) ',\n",
        "       title='Single long time run')\n",
        "ax.grid()\n",
        "\n",
        "#fig.savefig(\"time_average.png\")\n",
        "plt.show()"
      ],
      "execution_count": 0,
      "outputs": [
        {
          "output_type": "display_data",
          "data": {
            "image/png": "[encoded data removed]",
            "text/plain": [
              "<Figure size 432x288 with 1 Axes>"
            ]
          },
          "metadata": {
            "tags": []
          }
        }
      ]
    },
    {
      "cell_type": "code",
      "metadata": {
        "id": "fv7DlEyTST0q",
        "colab_type": "code",
        "colab": {}
      },
      "source": [
        ""
      ],
      "execution_count": 0,
      "outputs": []
    }
  ]
}